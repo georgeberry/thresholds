{
 "cells": [
  {
   "cell_type": "code",
   "execution_count": 1,
   "metadata": {
    "collapsed": true
   },
   "outputs": [],
   "source": [
    "import itertools\n",
    "import networkx as nx\n",
    "from networkx.generators.atlas import *\n",
    "import matplotlib.pyplot as plt\n",
    "import random\n",
    "from networkx.drawing.nx_agraph import graphviz_layout\n",
    "import networkx.algorithms.isomorphism as iso\n",
    "\n",
    "import warnings\n",
    "warnings.simplefilter(\"ignore\")"
   ]
  },
  {
   "cell_type": "markdown",
   "metadata": {},
   "source": [
    "## small graph inventory\n",
    "\n",
    "1. get all non-isomorphic small graphs (`|V| < k`)\n",
    "1. assign all theshold combinations to these small graphs\n",
    "1. see which threshold combinations lead to a cascade saturating\n",
    "1. take the threshold assginments that lead to a cascade and see which ones are isomorphic (with the attribute)\n"
   ]
  },
  {
   "cell_type": "code",
   "execution_count": 2,
   "metadata": {
    "collapsed": true
   },
   "outputs": [],
   "source": [
    "atlas = graph_atlas_g()\n",
    "# all graphs up to size 4\n",
    "small_graphs = [x for x in atlas if x.number_of_nodes() <= 4]\n",
    "\n",
    "def accept_graph(graph, accepted_graphs):\n",
    "    if nx.number_of_edges(graph) == 0:\n",
    "        return False\n",
    "    if nx.number_connected_components(graph) != 1:\n",
    "        return False\n",
    "    for a_graph in accepted_graphs:\n",
    "        if nx.is_isomorphic(graph, a_graph):\n",
    "            return False\n",
    "    return True\n",
    "        \n",
    "\n",
    "# get only single-connected-component graphs\n",
    "accepted_graphs = []\n",
    "for graph in small_graphs:\n",
    "    if accept_graph(graph, accepted_graphs):\n",
    "        accepted_graphs.append(graph)\n",
    "\n",
    "A = nx.Graph()\n",
    "for graph in accepted_graphs:\n",
    "    A = nx.disjoint_union(A, graph)"
   ]
  },
  {
   "cell_type": "code",
   "execution_count": 31,
   "metadata": {
    "scrolled": false
   },
   "outputs": [
    {
     "ename": "AttributeError",
     "evalue": "'list' object has no attribute 'is_directed'",
     "output_type": "error",
     "traceback": [
      "\u001b[0;31m---------------------------------------------------------------------------\u001b[0m",
      "\u001b[0;31mAttributeError\u001b[0m                            Traceback (most recent call last)",
      "\u001b[0;32m<ipython-input-31-905426f913de>\u001b[0m in \u001b[0;36m<module>\u001b[0;34m()\u001b[0m\n\u001b[1;32m      1\u001b[0m \u001b[0mplt\u001b[0m\u001b[0;34m.\u001b[0m\u001b[0mfigure\u001b[0m\u001b[0;34m(\u001b[0m\u001b[0;36m1\u001b[0m\u001b[0;34m,\u001b[0m\u001b[0mfigsize\u001b[0m\u001b[0;34m=\u001b[0m\u001b[0;34m(\u001b[0m\u001b[0;36m8\u001b[0m\u001b[0;34m,\u001b[0m\u001b[0;36m8\u001b[0m\u001b[0;34m)\u001b[0m\u001b[0;34m)\u001b[0m\u001b[0;34m\u001b[0m\u001b[0m\n\u001b[1;32m      2\u001b[0m \u001b[0;31m# layout graphs with positions using graphviz neato\u001b[0m\u001b[0;34m\u001b[0m\u001b[0;34m\u001b[0m\u001b[0m\n\u001b[0;32m----> 3\u001b[0;31m \u001b[0mpos\u001b[0m\u001b[0;34m=\u001b[0m\u001b[0mgraphviz_layout\u001b[0m\u001b[0;34m(\u001b[0m\u001b[0mA\u001b[0m\u001b[0;34m,\u001b[0m \u001b[0mprog\u001b[0m\u001b[0;34m=\u001b[0m\u001b[0;34m\"neato\"\u001b[0m\u001b[0;34m)\u001b[0m\u001b[0;34m\u001b[0m\u001b[0m\n\u001b[0m\u001b[1;32m      4\u001b[0m \u001b[0;31m# color nodes the same in each connected subgraph\u001b[0m\u001b[0;34m\u001b[0m\u001b[0;34m\u001b[0m\u001b[0m\n\u001b[1;32m      5\u001b[0m \u001b[0mC\u001b[0m\u001b[0;34m=\u001b[0m\u001b[0mnx\u001b[0m\u001b[0;34m.\u001b[0m\u001b[0mconnected_component_subgraphs\u001b[0m\u001b[0;34m(\u001b[0m\u001b[0mA\u001b[0m\u001b[0;34m)\u001b[0m\u001b[0;34m\u001b[0m\u001b[0m\n",
      "\u001b[0;32m/Users/g/miniconda3/lib/python3.6/site-packages/networkx/drawing/nx_agraph.py\u001b[0m in \u001b[0;36mgraphviz_layout\u001b[0;34m(G, prog, root, args)\u001b[0m\n\u001b[1;32m    226\u001b[0m \u001b[0;34m\u001b[0m\u001b[0m\n\u001b[1;32m    227\u001b[0m     \"\"\"\n\u001b[0;32m--> 228\u001b[0;31m     \u001b[0;32mreturn\u001b[0m \u001b[0mpygraphviz_layout\u001b[0m\u001b[0;34m(\u001b[0m\u001b[0mG\u001b[0m\u001b[0;34m,\u001b[0m\u001b[0mprog\u001b[0m\u001b[0;34m=\u001b[0m\u001b[0mprog\u001b[0m\u001b[0;34m,\u001b[0m\u001b[0mroot\u001b[0m\u001b[0;34m=\u001b[0m\u001b[0mroot\u001b[0m\u001b[0;34m,\u001b[0m\u001b[0margs\u001b[0m\u001b[0;34m=\u001b[0m\u001b[0margs\u001b[0m\u001b[0;34m)\u001b[0m\u001b[0;34m\u001b[0m\u001b[0m\n\u001b[0m\u001b[1;32m    229\u001b[0m \u001b[0;34m\u001b[0m\u001b[0m\n\u001b[1;32m    230\u001b[0m \u001b[0;32mdef\u001b[0m \u001b[0mpygraphviz_layout\u001b[0m\u001b[0;34m(\u001b[0m\u001b[0mG\u001b[0m\u001b[0;34m,\u001b[0m\u001b[0mprog\u001b[0m\u001b[0;34m=\u001b[0m\u001b[0;34m'neato'\u001b[0m\u001b[0;34m,\u001b[0m\u001b[0mroot\u001b[0m\u001b[0;34m=\u001b[0m\u001b[0;32mNone\u001b[0m\u001b[0;34m,\u001b[0m \u001b[0margs\u001b[0m\u001b[0;34m=\u001b[0m\u001b[0;34m''\u001b[0m\u001b[0;34m)\u001b[0m\u001b[0;34m:\u001b[0m\u001b[0;34m\u001b[0m\u001b[0m\n",
      "\u001b[0;32m/Users/g/miniconda3/lib/python3.6/site-packages/networkx/drawing/nx_agraph.py\u001b[0m in \u001b[0;36mpygraphviz_layout\u001b[0;34m(G, prog, root, args)\u001b[0m\n\u001b[1;32m    259\u001b[0m     \u001b[0;32mif\u001b[0m \u001b[0mroot\u001b[0m \u001b[0;32mis\u001b[0m \u001b[0;32mnot\u001b[0m \u001b[0;32mNone\u001b[0m\u001b[0;34m:\u001b[0m\u001b[0;34m\u001b[0m\u001b[0m\n\u001b[1;32m    260\u001b[0m         \u001b[0margs\u001b[0m\u001b[0;34m+=\u001b[0m\u001b[0;34m\"-Groot=%s\"\u001b[0m\u001b[0;34m%\u001b[0m\u001b[0mroot\u001b[0m\u001b[0;34m\u001b[0m\u001b[0m\n\u001b[0;32m--> 261\u001b[0;31m     \u001b[0mA\u001b[0m\u001b[0;34m=\u001b[0m\u001b[0mto_agraph\u001b[0m\u001b[0;34m(\u001b[0m\u001b[0mG\u001b[0m\u001b[0;34m)\u001b[0m\u001b[0;34m\u001b[0m\u001b[0m\n\u001b[0m\u001b[1;32m    262\u001b[0m     \u001b[0mA\u001b[0m\u001b[0;34m.\u001b[0m\u001b[0mlayout\u001b[0m\u001b[0;34m(\u001b[0m\u001b[0mprog\u001b[0m\u001b[0;34m=\u001b[0m\u001b[0mprog\u001b[0m\u001b[0;34m,\u001b[0m\u001b[0margs\u001b[0m\u001b[0;34m=\u001b[0m\u001b[0margs\u001b[0m\u001b[0;34m)\u001b[0m\u001b[0;34m\u001b[0m\u001b[0m\n\u001b[1;32m    263\u001b[0m     \u001b[0mnode_pos\u001b[0m\u001b[0;34m=\u001b[0m\u001b[0;34m{\u001b[0m\u001b[0;34m}\u001b[0m\u001b[0;34m\u001b[0m\u001b[0m\n",
      "\u001b[0;32m/Users/g/miniconda3/lib/python3.6/site-packages/networkx/drawing/nx_agraph.py\u001b[0m in \u001b[0;36mto_agraph\u001b[0;34m(N)\u001b[0m\n\u001b[1;32m    134\u001b[0m         raise ImportError('requires pygraphviz ',\n\u001b[1;32m    135\u001b[0m                           'http://pygraphviz.github.io/')\n\u001b[0;32m--> 136\u001b[0;31m     \u001b[0mdirected\u001b[0m\u001b[0;34m=\u001b[0m\u001b[0mN\u001b[0m\u001b[0;34m.\u001b[0m\u001b[0mis_directed\u001b[0m\u001b[0;34m(\u001b[0m\u001b[0;34m)\u001b[0m\u001b[0;34m\u001b[0m\u001b[0m\n\u001b[0m\u001b[1;32m    137\u001b[0m     \u001b[0mstrict\u001b[0m\u001b[0;34m=\u001b[0m\u001b[0mN\u001b[0m\u001b[0;34m.\u001b[0m\u001b[0mnumber_of_selfloops\u001b[0m\u001b[0;34m(\u001b[0m\u001b[0;34m)\u001b[0m\u001b[0;34m==\u001b[0m\u001b[0;36m0\u001b[0m \u001b[0;32mand\u001b[0m \u001b[0;32mnot\u001b[0m \u001b[0mN\u001b[0m\u001b[0;34m.\u001b[0m\u001b[0mis_multigraph\u001b[0m\u001b[0;34m(\u001b[0m\u001b[0;34m)\u001b[0m\u001b[0;34m\u001b[0m\u001b[0m\n\u001b[1;32m    138\u001b[0m     \u001b[0mA\u001b[0m\u001b[0;34m=\u001b[0m\u001b[0mpygraphviz\u001b[0m\u001b[0;34m.\u001b[0m\u001b[0mAGraph\u001b[0m\u001b[0;34m(\u001b[0m\u001b[0mname\u001b[0m\u001b[0;34m=\u001b[0m\u001b[0mN\u001b[0m\u001b[0;34m.\u001b[0m\u001b[0mname\u001b[0m\u001b[0;34m,\u001b[0m\u001b[0mstrict\u001b[0m\u001b[0;34m=\u001b[0m\u001b[0mstrict\u001b[0m\u001b[0;34m,\u001b[0m\u001b[0mdirected\u001b[0m\u001b[0;34m=\u001b[0m\u001b[0mdirected\u001b[0m\u001b[0;34m)\u001b[0m\u001b[0;34m\u001b[0m\u001b[0m\n",
      "\u001b[0;31mAttributeError\u001b[0m: 'list' object has no attribute 'is_directed'"
     ]
    }
   ],
   "source": [
    "plt.figure(1,figsize=(8,8))\n",
    "# layout graphs with positions using graphviz neato\n",
    "pos=graphviz_layout(A, prog=\"neato\")\n",
    "# color nodes the same in each connected subgraph\n",
    "C=nx.connected_component_subgraphs(A)\n",
    "for g in C:\n",
    "    c=[random.random()]*nx.number_of_nodes(g) # random color...\n",
    "    nx.draw(\n",
    "        g,\n",
    "        pos,\n",
    "        node_size=40,\n",
    "        node_color=c,\n",
    "        vmin=0.0,\n",
    "        vmax=1.0,\n",
    "        with_labels=False\n",
    "    )\n",
    "plt.show()"
   ]
  },
  {
   "cell_type": "markdown",
   "metadata": {
    "collapsed": true
   },
   "source": [
    "## space\n",
    "\n",
    "set of all small graphs `a in A`, each graph having `|a|` nodes\n",
    "\n",
    "the set of thresholds `t_|a| in T` where `|a|` is the number of nodes in `a` and where `t_|a|` is given by `(0 ... |a|-1)^|a|`\n",
    "\n",
    "## algorithm\n",
    "\n",
    "    initialize set of all small graphs A\n",
    "    initialize empty list of isomorphic graphs S\n",
    "\n",
    "    for each a in A\n",
    "        get number of nodes |a|\n",
    "        for each threshold vector t in (0, ..., |a| - 1)^|a|\n",
    "            set g as graph a with thresholds t\n",
    "            for s in S\n",
    "                if g not isormophic with any s\n",
    "                    add g to S\n",
    "    \n",
    "    "
   ]
  },
  {
   "cell_type": "code",
   "execution_count": 21,
   "metadata": {
    "collapsed": true
   },
   "outputs": [],
   "source": [
    "atlas = graph_atlas_g()\n",
    "# all graphs up to size 4\n",
    "A = [x for x in atlas if x.number_of_nodes() <= 4]\n",
    "\n",
    "S = []\n",
    "\n",
    "nm = iso.categorical_node_match('th', -1)\n",
    "\n",
    "for a in A:\n",
    "    n_a = len(a)\n",
    "    for t in itertools.product(range(n_a), repeat=n_a):\n",
    "        g = a.copy()\n",
    "        for idx, th in enumerate(t):\n",
    "            g.node[idx]['th'] = th\n",
    "            g.node[idx]['active'] = False\n",
    "        for s in S:\n",
    "            if nx.is_isomorphic(g, s, node_match=nm):\n",
    "                break\n",
    "        else:\n",
    "            S.append(g)"
   ]
  },
  {
   "cell_type": "code",
   "execution_count": 22,
   "metadata": {
    "collapsed": true
   },
   "outputs": [],
   "source": [
    "def does_saturate(graph):\n",
    "    n = graph.number_of_nodes()\n",
    "    inactive_node_set = set(graph.node.keys())\n",
    "    checked_no_activation_node_set = set()\n",
    "    while True:\n",
    "        if len(inactive_node_set) == 0:\n",
    "            return True\n",
    "        if len(inactive_node_set) == len(checked_no_activation_node_set):\n",
    "            # If there are 3 inactive nodes and we have checked all,\n",
    "            # since last activation, checking again will not help\n",
    "            return False\n",
    "        to_check = random.sample(inactive_node_set, 1)[0]\n",
    "        nbrs = graph.neighbors(to_check)\n",
    "        th = graph.node[to_check]['th']\n",
    "        active_nbrs = sum([graph.node[x]['active'] for x in nbrs])\n",
    "        if active_nbrs >= th:\n",
    "            graph.node[to_check]['active'] = True\n",
    "            inactive_node_set -= set([to_check])\n",
    "            checked_no_activation_node_set = set()\n",
    "        else:\n",
    "            checked_no_activation_node_set.add(to_check)\n",
    "\n",
    "accepted_graphs = []\n",
    "            \n",
    "for s in S:\n",
    "    if does_saturate(s):\n",
    "        accepted_graphs.append(s)"
   ]
  },
  {
   "cell_type": "code",
   "execution_count": 23,
   "metadata": {},
   "outputs": [
    {
     "name": "stdout",
     "output_type": "stream",
     "text": [
      "1060\n",
      "138\n"
     ]
    }
   ],
   "source": [
    "print(len(S))\n",
    "print(len(accepted_graphs))"
   ]
  },
  {
   "cell_type": "markdown",
   "metadata": {},
   "source": [
    "# simulate diffusion\n",
    "\n",
    "for simplicity we assume that 0-activated nodes are correctly measured\n",
    "\n",
    "this is a **conservative** assumption on our ability to measure"
   ]
  },
  {
   "cell_type": "code",
   "execution_count": 24,
   "metadata": {
    "collapsed": true
   },
   "outputs": [],
   "source": [
    "def correctly_measured(attr):\n",
    "    # none - int -> False\n",
    "    # 0 - none -> True\n",
    "    # (int > 0) - none -> False\n",
    "    # int - int != 1 -> False\n",
    "    # int - int == 1 -> True\n",
    "    prev = attr['prev']\n",
    "    act = attr['act']\n",
    "    if act == 0:\n",
    "        return 1\n",
    "    if prev == None:\n",
    "        return 0\n",
    "    if act - prev != 1:\n",
    "        return 0\n",
    "    return 1\n",
    "\n",
    "def check_measurement(graph):\n",
    "    # returns (correct, total)\n",
    "    measured = {}\n",
    "    for idx, attr in graph.nodes_iter(data=True):\n",
    "        measured[idx] = correctly_measured(attr)\n",
    "    return sum(measured.values()), len(graph)\n",
    "\n",
    "def measurement_status(graph):\n",
    "    n = graph.number_of_nodes()\n",
    "    inactive_node_set = set(graph.node.keys())\n",
    "    checked_no_activation_node_set = set()\n",
    "    for idx in range(n):\n",
    "        graph.node[idx]['active'] = False\n",
    "        graph.node[idx]['prev'] = None\n",
    "        graph.node[idx]['act'] = None    \n",
    "    while True:\n",
    "        if len(inactive_node_set) == 0:\n",
    "            return check_measurement(graph)\n",
    "        to_check = random.sample(inactive_node_set, 1)[0]\n",
    "        nbrs = graph.neighbors(to_check)\n",
    "        th = graph.node[to_check]['th']\n",
    "        active_nbrs = sum([graph.node[x]['active'] for x in nbrs])\n",
    "        if active_nbrs >= th:\n",
    "            graph.node[to_check]['active'] = True\n",
    "            graph.node[to_check]['act'] = active_nbrs\n",
    "            inactive_node_set -= set([to_check])\n",
    "            checked_no_activation_node_set = set()\n",
    "        else:\n",
    "            graph.node[to_check]['prev'] = active_nbrs\n",
    "            checked_no_activation_node_set.add(to_check)\n",
    "\n",
    "for graph in accepted_graphs:\n",
    "    graph.graph['correct'] = 0\n",
    "    graph.graph['total'] = 0\n",
    "    \n",
    "    for _ in range(100):\n",
    "        correct, total = measurement_status(graph)\n",
    "        graph.graph['correct'] += correct\n",
    "        graph.graph['total'] += total"
   ]
  },
  {
   "cell_type": "markdown",
   "metadata": {},
   "source": [
    "## plots\n",
    "\n",
    "1. select all triads\n",
    "1. order by atlas ordering and then threshold assignment"
   ]
  },
  {
   "cell_type": "code",
   "execution_count": 28,
   "metadata": {
    "collapsed": true
   },
   "outputs": [],
   "source": [
    "# order is num nodes\n",
    "# size is num edges\n",
    "\n",
    "all_dyads = [\n",
    "    x for x in accepted_graphs if x.order() == 2 and x.size() == 1\n",
    "]\n",
    "triads_two_edge = [\n",
    "    x for x in accepted_graphs if x.order() == 3 and x.size() == 2 \n",
    "]\n",
    "triads_three_edge = [\n",
    "    x for x in accepted_graphs if x.size() == 3 and x.order() == 3\n",
    "]\n",
    "tetrad_three_edge = [\n",
    "    x for x in accepted_graphs if x.size() == 3 and x.order() == 4\n",
    "]\n",
    "tetrad_four_edge = [\n",
    "    x for x in accepted_graphs if x.size() == 4 and x.order() == 4\n",
    "]\n",
    "tetrad_five_edge = [\n",
    "    x for x in accepted_graphs if x.size() == 5 and x.order() == 4\n",
    "]\n",
    "tetrad_six_edge = [\n",
    "    x for x in accepted_graphs if x.size() == 6 and x.order() == 4\n",
    "]"
   ]
  },
  {
   "cell_type": "code",
   "execution_count": 39,
   "metadata": {},
   "outputs": [
    {
     "data": {
      "image/png": "[encoded data removed]",
      "text/plain": [
       "<matplotlib.figure.Figure at 0x113fd0cf8>"
      ]
     },
     "metadata": {},
     "output_type": "display_data"
    }
   ],
   "source": [
    "region = [1, len(all_dyads), 0]\n",
    "\n",
    "plt.figure(1,figsize=(10,2))\n",
    "\n",
    "for graph in all_dyads:\n",
    "    pos=graphviz_layout(graph)\n",
    "    region[2] += 1\n",
    "    plt.subplot(*region)\n",
    "    frac = graph.graph['correct'] / graph.graph['total']\n",
    "    labs = {x: graph.node[x]['th'] for x in range(graph.number_of_nodes())}\n",
    "    plt.title(\"cm={0:.3f}\".format(frac))\n",
    "    nx.draw(graph, pos, labels=labs)\n",
    "plt.show()"
   ]
  },
  {
   "cell_type": "code",
   "execution_count": 33,
   "metadata": {},
   "outputs": [
    {
     "data": {
      "image/png": "[encoded data removed]",
      "text/plain": [
       "<matplotlib.figure.Figure at 0x10e0c98d0>"
      ]
     },
     "metadata": {},
     "output_type": "display_data"
    }
   ],
   "source": [
    "region = [1, len(triads_two_edge), 0]\n",
    "\n",
    "plt.figure(1,figsize=(10,2.5))\n",
    "\n",
    "for graph in triads_two_edge:\n",
    "    pos=graphviz_layout(graph)\n",
    "    region[2] += 1\n",
    "    plt.subplot(*region)\n",
    "    frac = graph.graph['correct'] / graph.graph['total']\n",
    "    labs = {x: graph.node[x]['th'] for x in range(graph.number_of_nodes())}\n",
    "    plt.title(\"cm={0:.3f}\".format(frac))\n",
    "    nx.draw(graph, pos, labels=labs)\n",
    "plt.show()"
   ]
  },
  {
   "cell_type": "code",
   "execution_count": 34,
   "metadata": {},
   "outputs": [
    {
     "data": {
      "image/png": "[encoded data removed]",
      "text/plain": [
       "<matplotlib.figure.Figure at 0x10759a9e8>"
      ]
     },
     "metadata": {},
     "output_type": "display_data"
    }
   ],
   "source": [
    "region = [1, len(triads_three_edge), 0]\n",
    "\n",
    "plt.figure(1,figsize=(10,2.5))\n",
    "\n",
    "for graph in triads_three_edge:\n",
    "    pos=graphviz_layout(graph)\n",
    "    region[2] += 1\n",
    "    plt.subplot(*region)\n",
    "    frac = graph.graph['correct'] / graph.graph['total']\n",
    "    labs = {x: graph.node[x]['th'] for x in range(graph.number_of_nodes())}\n",
    "    plt.title(\"cm={0:.3f}\".format(frac))\n",
    "    nx.draw(graph, pos, labels=labs)\n",
    "plt.show()"
   ]
  },
  {
   "cell_type": "code",
   "execution_count": 35,
   "metadata": {},
   "outputs": [
    {
     "ename": "ValueError",
     "evalue": "num must be 1 <= num <= 26, not 27",
     "output_type": "error",
     "traceback": [
      "\u001b[0;31m---------------------------------------------------------------------------\u001b[0m",
      "\u001b[0;31mValueError\u001b[0m                                Traceback (most recent call last)",
      "\u001b[0;32m<ipython-input-35-f90eb9b4b21e>\u001b[0m in \u001b[0;36m<module>\u001b[0;34m()\u001b[0m\n\u001b[1;32m      6\u001b[0m     \u001b[0mpos\u001b[0m\u001b[0;34m=\u001b[0m\u001b[0mgraphviz_layout\u001b[0m\u001b[0;34m(\u001b[0m\u001b[0mgraph\u001b[0m\u001b[0;34m)\u001b[0m\u001b[0;34m\u001b[0m\u001b[0m\n\u001b[1;32m      7\u001b[0m     \u001b[0mregion\u001b[0m\u001b[0;34m[\u001b[0m\u001b[0;36m2\u001b[0m\u001b[0;34m]\u001b[0m \u001b[0;34m+=\u001b[0m \u001b[0;36m1\u001b[0m\u001b[0;34m\u001b[0m\u001b[0m\n\u001b[0;32m----> 8\u001b[0;31m     \u001b[0mplt\u001b[0m\u001b[0;34m.\u001b[0m\u001b[0msubplot\u001b[0m\u001b[0;34m(\u001b[0m\u001b[0;34m*\u001b[0m\u001b[0mregion\u001b[0m\u001b[0;34m)\u001b[0m\u001b[0;34m\u001b[0m\u001b[0m\n\u001b[0m\u001b[1;32m      9\u001b[0m     \u001b[0mfrac\u001b[0m \u001b[0;34m=\u001b[0m \u001b[0mgraph\u001b[0m\u001b[0;34m.\u001b[0m\u001b[0mgraph\u001b[0m\u001b[0;34m[\u001b[0m\u001b[0;34m'correct'\u001b[0m\u001b[0;34m]\u001b[0m \u001b[0;34m/\u001b[0m \u001b[0mgraph\u001b[0m\u001b[0;34m.\u001b[0m\u001b[0mgraph\u001b[0m\u001b[0;34m[\u001b[0m\u001b[0;34m'total'\u001b[0m\u001b[0;34m]\u001b[0m\u001b[0;34m\u001b[0m\u001b[0m\n\u001b[1;32m     10\u001b[0m     \u001b[0mlabs\u001b[0m \u001b[0;34m=\u001b[0m \u001b[0;34m{\u001b[0m\u001b[0mx\u001b[0m\u001b[0;34m:\u001b[0m \u001b[0mgraph\u001b[0m\u001b[0;34m.\u001b[0m\u001b[0mnode\u001b[0m\u001b[0;34m[\u001b[0m\u001b[0mx\u001b[0m\u001b[0;34m]\u001b[0m\u001b[0;34m[\u001b[0m\u001b[0;34m'th'\u001b[0m\u001b[0;34m]\u001b[0m \u001b[0;32mfor\u001b[0m \u001b[0mx\u001b[0m \u001b[0;32min\u001b[0m \u001b[0mrange\u001b[0m\u001b[0;34m(\u001b[0m\u001b[0mgraph\u001b[0m\u001b[0;34m.\u001b[0m\u001b[0mnumber_of_nodes\u001b[0m\u001b[0;34m(\u001b[0m\u001b[0;34m)\u001b[0m\u001b[0;34m)\u001b[0m\u001b[0;34m}\u001b[0m\u001b[0;34m\u001b[0m\u001b[0m\n",
      "\u001b[0;32m/Users/g/miniconda3/lib/python3.6/site-packages/matplotlib/pyplot.py\u001b[0m in \u001b[0;36msubplot\u001b[0;34m(*args, **kwargs)\u001b[0m\n\u001b[1;32m   1042\u001b[0m \u001b[0;34m\u001b[0m\u001b[0m\n\u001b[1;32m   1043\u001b[0m     \u001b[0mfig\u001b[0m \u001b[0;34m=\u001b[0m \u001b[0mgcf\u001b[0m\u001b[0;34m(\u001b[0m\u001b[0;34m)\u001b[0m\u001b[0;34m\u001b[0m\u001b[0m\n\u001b[0;32m-> 1044\u001b[0;31m     \u001b[0ma\u001b[0m \u001b[0;34m=\u001b[0m \u001b[0mfig\u001b[0m\u001b[0;34m.\u001b[0m\u001b[0madd_subplot\u001b[0m\u001b[0;34m(\u001b[0m\u001b[0;34m*\u001b[0m\u001b[0margs\u001b[0m\u001b[0;34m,\u001b[0m \u001b[0;34m**\u001b[0m\u001b[0mkwargs\u001b[0m\u001b[0;34m)\u001b[0m\u001b[0;34m\u001b[0m\u001b[0m\n\u001b[0m\u001b[1;32m   1045\u001b[0m     \u001b[0mbbox\u001b[0m \u001b[0;34m=\u001b[0m \u001b[0ma\u001b[0m\u001b[0;34m.\u001b[0m\u001b[0mbbox\u001b[0m\u001b[0;34m\u001b[0m\u001b[0m\n\u001b[1;32m   1046\u001b[0m     \u001b[0mbyebye\u001b[0m \u001b[0;34m=\u001b[0m \u001b[0;34m[\u001b[0m\u001b[0;34m]\u001b[0m\u001b[0;34m\u001b[0m\u001b[0m\n",
      "\u001b[0;32m/Users/g/miniconda3/lib/python3.6/site-packages/matplotlib/figure.py\u001b[0m in \u001b[0;36madd_subplot\u001b[0;34m(self, *args, **kwargs)\u001b[0m\n\u001b[1;32m   1018\u001b[0m                     \u001b[0mself\u001b[0m\u001b[0;34m.\u001b[0m\u001b[0m_axstack\u001b[0m\u001b[0;34m.\u001b[0m\u001b[0mremove\u001b[0m\u001b[0;34m(\u001b[0m\u001b[0max\u001b[0m\u001b[0;34m)\u001b[0m\u001b[0;34m\u001b[0m\u001b[0m\n\u001b[1;32m   1019\u001b[0m \u001b[0;34m\u001b[0m\u001b[0m\n\u001b[0;32m-> 1020\u001b[0;31m             \u001b[0ma\u001b[0m \u001b[0;34m=\u001b[0m \u001b[0msubplot_class_factory\u001b[0m\u001b[0;34m(\u001b[0m\u001b[0mprojection_class\u001b[0m\u001b[0;34m)\u001b[0m\u001b[0;34m(\u001b[0m\u001b[0mself\u001b[0m\u001b[0;34m,\u001b[0m \u001b[0;34m*\u001b[0m\u001b[0margs\u001b[0m\u001b[0;34m,\u001b[0m \u001b[0;34m**\u001b[0m\u001b[0mkwargs\u001b[0m\u001b[0;34m)\u001b[0m\u001b[0;34m\u001b[0m\u001b[0m\n\u001b[0m\u001b[1;32m   1021\u001b[0m \u001b[0;34m\u001b[0m\u001b[0m\n\u001b[1;32m   1022\u001b[0m         \u001b[0mself\u001b[0m\u001b[0;34m.\u001b[0m\u001b[0m_axstack\u001b[0m\u001b[0;34m.\u001b[0m\u001b[0madd\u001b[0m\u001b[0;34m(\u001b[0m\u001b[0mkey\u001b[0m\u001b[0;34m,\u001b[0m \u001b[0ma\u001b[0m\u001b[0;34m)\u001b[0m\u001b[0;34m\u001b[0m\u001b[0m\n",
      "\u001b[0;32m/Users/g/miniconda3/lib/python3.6/site-packages/matplotlib/axes/_subplots.py\u001b[0m in \u001b[0;36m__init__\u001b[0;34m(self, fig, *args, **kwargs)\u001b[0m\n\u001b[1;32m     62\u001b[0m                     raise ValueError(\n\u001b[1;32m     63\u001b[0m                         \"num must be 1 <= num <= {maxn}, not {num}\".format(\n\u001b[0;32m---> 64\u001b[0;31m                             maxn=rows*cols, num=num))\n\u001b[0m\u001b[1;32m     65\u001b[0m                 \u001b[0mself\u001b[0m\u001b[0;34m.\u001b[0m\u001b[0m_subplotspec\u001b[0m \u001b[0;34m=\u001b[0m \u001b[0mGridSpec\u001b[0m\u001b[0;34m(\u001b[0m\u001b[0mrows\u001b[0m\u001b[0;34m,\u001b[0m \u001b[0mcols\u001b[0m\u001b[0;34m)\u001b[0m\u001b[0;34m[\u001b[0m\u001b[0mint\u001b[0m\u001b[0;34m(\u001b[0m\u001b[0mnum\u001b[0m\u001b[0;34m)\u001b[0m \u001b[0;34m-\u001b[0m \u001b[0;36m1\u001b[0m\u001b[0;34m]\u001b[0m\u001b[0;34m\u001b[0m\u001b[0m\n\u001b[1;32m     66\u001b[0m                 \u001b[0;31m# num - 1 for converting from MATLAB to python indexing\u001b[0m\u001b[0;34m\u001b[0m\u001b[0;34m\u001b[0m\u001b[0m\n",
      "\u001b[0;31mValueError\u001b[0m: num must be 1 <= num <= 26, not 27"
     ]
    }
   ],
   "source": [
    "region = [2, len(tetrad_three_edge) / 2, 0]\n",
    "\n",
    "plt.figure(1,figsize=(14,5))\n",
    "\n",
    "for graph in tetrad_three_edge:\n",
    "    pos=graphviz_layout(graph)\n",
    "    region[2] += 1\n",
    "    plt.subplot(*region)\n",
    "    frac = graph.graph['correct'] / graph.graph['total']\n",
    "    labs = {x: graph.node[x]['th'] for x in range(graph.number_of_nodes())}\n",
    "    plt.title(\"cm={0:.3f}\".format(frac))\n",
    "    nx.draw(graph, pos, labels=labs)\n",
    "plt.show()"
   ]
  },
  {
   "cell_type": "code",
   "execution_count": 27,
   "metadata": {},
   "outputs": [
    {
     "data": {
      "text/plain": [
       "[<networkx.classes.graph.Graph at 0x10f17ef98>,\n",
       " <networkx.classes.graph.Graph at 0x10f17eb70>]"
      ]
     },
     "execution_count": 27,
     "metadata": {},
     "output_type": "execute_result"
    }
   ],
   "source": [
    "all_dyads"
   ]
  },
  {
   "cell_type": "markdown",
   "metadata": {
    "collapsed": true
   },
   "source": [
    "## Plot measurement rate vs mean pairwise threshold difference\n",
    "\n",
    "## Plot measurement rate vs difference between node degree and node threshold\n",
    "\n",
    "## Which graphs + thresholds will *always* produce at least 1 mismeasurement?\n",
    "\n",
    "## Enumerate all specific update orderings"
   ]
  },
  {
   "cell_type": "markdown",
   "metadata": {
    "collapsed": true
   },
   "source": [
    "# Rewrite\n",
    "\n",
    "We have a set of graphs, which we can label with thresholds and update orderings"
   ]
  }
 ],
 "metadata": {
  "kernelspec": {
   "display_name": "Python 3",
   "language": "python",
   "name": "python3"
  },
  "language_info": {
   "codemirror_mode": {
    "name": "ipython",
    "version": 3
   },
   "file_extension": ".py",
   "mimetype": "text/x-python",
   "name": "python",
   "nbconvert_exporter": "python",
   "pygments_lexer": "ipython3",
   "version": "3.6.0"
  }
 },
 "nbformat": 4,
 "nbformat_minor": 2
}
