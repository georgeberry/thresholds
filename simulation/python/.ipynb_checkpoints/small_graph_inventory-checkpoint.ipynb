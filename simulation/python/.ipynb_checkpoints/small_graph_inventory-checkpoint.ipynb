{
 "cells": [
  {
   "cell_type": "code",
   "execution_count": 8,
   "metadata": {
    "collapsed": true,
    "deletable": true,
    "editable": true
   },
   "outputs": [],
   "source": [
    "import itertools\n",
    "import networkx as nx\n",
    "from networkx.generators.atlas import *\n",
    "import matplotlib.pyplot as plt\n",
    "import random\n",
    "from networkx.drawing.nx_agraph import graphviz_layout\n",
    "import networkx.algorithms.isomorphism as iso"
   ]
  },
  {
   "cell_type": "markdown",
   "metadata": {
    "deletable": true,
    "editable": true
   },
   "source": [
    "## small graph inventory\n",
    "\n",
    "1. get all non-isomorphic small graphs (`|V| < k`)\n",
    "1. assign all theshold combinations to these small graphs\n",
    "1. see which threshold combinations lead to a cascade saturating\n",
    "1. take the threshold assginments that lead to a cascade and see which ones are isomorphic (with the attribute)\n"
   ]
  },
  {
   "cell_type": "code",
   "execution_count": 3,
   "metadata": {
    "collapsed": false,
    "deletable": true,
    "editable": true
   },
   "outputs": [],
   "source": [
    "atlas = graph_atlas_g()\n",
    "# all graphs up to size 5\n",
    "small_graphs = [x for x in atlas if x.number_of_nodes() <= 3]\n",
    "\n",
    "def accept_graph(graph, accepted_graphs):\n",
    "    if nx.number_of_edges(graph) == 0:\n",
    "        return False\n",
    "    if nx.number_connected_components(graph) != 1:\n",
    "        return False\n",
    "    for a_graph in accepted_graphs:\n",
    "        if nx.is_isomorphic(graph, a_graph):\n",
    "            return False\n",
    "    return True\n",
    "        \n",
    "\n",
    "# get only single-connected-component graphs\n",
    "accepted_graphs = []\n",
    "for graph in small_graphs:\n",
    "    if accept_graph(graph, accepted_graphs):\n",
    "        accepted_graphs.append(graph)\n",
    "\n",
    "A = nx.Graph()\n",
    "for graph in accepted_graphs:\n",
    "    A = nx.disjoint_union(A, graph)"
   ]
  },
  {
   "cell_type": "code",
   "execution_count": 4,
   "metadata": {
    "collapsed": false,
    "deletable": true,
    "editable": true,
    "scrolled": false
   },
   "outputs": [
    {
     "data": {
      "image/png": "[encoded data removed]",
      "text/plain": [
       "<matplotlib.figure.Figure at 0x10c12e630>"
      ]
     },
     "metadata": {},
     "output_type": "display_data"
    }
   ],
   "source": [
    "plt.figure(1,figsize=(8,8))\n",
    "# layout graphs with positions using graphviz neato\n",
    "pos=graphviz_layout(A, prog=\"neato\")\n",
    "# color nodes the same in each connected subgraph\n",
    "C=nx.connected_component_subgraphs(A)\n",
    "for g in C:\n",
    "    c=[random.random()]*nx.number_of_nodes(g) # random color...\n",
    "    nx.draw(g,\n",
    "         pos,\n",
    "         node_size=40,\n",
    "         node_color=c,\n",
    "         vmin=0.0,\n",
    "         vmax=1.0,\n",
    "         with_labels=False\n",
    "         )\n",
    "plt.show()"
   ]
  },
  {
   "cell_type": "markdown",
   "metadata": {
    "collapsed": true,
    "deletable": true,
    "editable": true
   },
   "source": [
    "## procedure\n",
    "1. add thresholds, update randomly\n",
    "1. we choose thresholds of 0, 1 ... graph_size and assign all combinations\n",
    "1. for each combination we check to see if the graph-threshold combination can saturate\n",
    "1. if yes, we accept it\n",
    "1. then we run 100 simulations on each with random update orderings to see how many are mismeasured\n",
    "\n",
    "## algorithm\n",
    "\n",
    "    for each graph\n",
    "        get number of nodes n of graph\n",
    "        generate all length n lists of integers from 0 to n (n^n such lists)\n",
    "        for each such list\n",
    "            label the graph with list (todo: what about isomorphisms once we label?)\n",
    "            randomly update nodes for activation until:\n",
    "                1. graph saturates\n",
    "                2. we have checked each non-active node and they do not update\n",
    "                save graph that saturates"
   ]
  },
  {
   "cell_type": "code",
   "execution_count": 18,
   "metadata": {
    "collapsed": false,
    "deletable": true,
    "editable": true
   },
   "outputs": [
    {
     "name": "stdout",
     "output_type": "stream",
     "text": [
      "13\n"
     ]
    }
   ],
   "source": [
    "def does_saturate(graph):\n",
    "    n = graph.number_of_nodes()\n",
    "    inactive_node_set = set(graph.node.keys())\n",
    "    checked_no_activation_node_set = set()\n",
    "    while True:\n",
    "        if len(inactive_node_set) == 0:\n",
    "            return True\n",
    "        if len(inactive_node_set) == len(checked_no_activation_node_set):\n",
    "            # If there are 3 inactive nodes and we have checked all,\n",
    "            # since last activation, checking again will not help\n",
    "            return False\n",
    "        to_check = random.sample(inactive_node_set, 1)[0]\n",
    "        nbrs = graph.neighbors(to_check)\n",
    "        th = graph.node[to_check]['th']\n",
    "        active_nbrs = sum([graph.node[x]['active'] for x in nbrs])\n",
    "        if active_nbrs >= th:\n",
    "            graph.node[to_check]['active'] = True\n",
    "            inactive_node_set -= set([to_check])\n",
    "            checked_no_activation_node_set = set()\n",
    "        else:\n",
    "            checked_no_activation_node_set.add(to_check)\n",
    "\n",
    "# def node_match(n1_attr, n2_attr):\n",
    "#     if n1_attr['th'] == n2_attr['th']:\n",
    "#         return True\n",
    "#     return False\n",
    "\n",
    "nm = iso.categorical_node_match('th', -1)\n",
    "\n",
    "def accept_saturated_graph(graph, saturated_graphs):\n",
    "    for s_graph in saturated_graphs:\n",
    "        if nx.is_isomorphic(graph, s_graph, node_match=nm):\n",
    "            return False\n",
    "    return True\n",
    "\n",
    "saturated_graphs = []\n",
    "            \n",
    "for graph in accepted_graphs:\n",
    "    n = graph.number_of_nodes()\n",
    "    for th_list in itertools.product(range(n), repeat=n):\n",
    "        for idx, th in enumerate(th_list):\n",
    "            graph.node[idx]['th'] = th\n",
    "            graph.node[idx]['active'] = False\n",
    "        if does_saturate(graph):\n",
    "            if accept_saturated_graph(graph, saturated_graphs):\n",
    "                saturated_graphs.append(graph.copy())\n",
    "print(len(saturated_graphs))"
   ]
  },
  {
   "cell_type": "markdown",
   "metadata": {
    "deletable": true,
    "editable": true
   },
   "source": [
    "# run simulation\n",
    "\n",
    "for simplicity we assume that 0-activated nodes are correctly measured\n",
    "\n",
    "this is a **conservative** assumption on our ability to measure"
   ]
  },
  {
   "cell_type": "code",
   "execution_count": 20,
   "metadata": {
    "collapsed": false,
    "deletable": true,
    "editable": true
   },
   "outputs": [
    {
     "name": "stdout",
     "output_type": "stream",
     "text": [
      "{'[(0, 1)] [0, 0]': {'correct': 100, 'total': 200}, '[(0, 1)] [0, 1]': {'correct': 154, 'total': 200}, '[(0, 1), (0, 2)] [0, 0, 0]': {'correct': 128, 'total': 300}, '[(0, 1), (0, 2)] [0, 0, 1]': {'correct': 143, 'total': 300}, '[(0, 1), (0, 2)] [0, 1, 1]': {'correct': 195, 'total': 300}, '[(0, 1), (0, 2)] [1, 0, 0]': {'correct': 174, 'total': 300}, '[(0, 1), (0, 2)] [1, 0, 1]': {'correct': 222, 'total': 300}, '[(0, 1), (0, 2)] [2, 0, 0]': {'correct': 256, 'total': 300}, '[(0, 1), (0, 2), (1, 2)] [0, 0, 0]': {'correct': 100, 'total': 300}, '[(0, 1), (0, 2), (1, 2)] [0, 0, 1]': {'correct': 117, 'total': 300}, '[(0, 1), (0, 2), (1, 2)] [0, 0, 2]': {'correct': 157, 'total': 300}, '[(0, 1), (0, 2), (1, 2)] [0, 1, 1]': {'correct': 153, 'total': 300}, '[(0, 1), (0, 2), (1, 2)] [0, 1, 2]': {'correct': 207, 'total': 300}}\n"
     ]
    }
   ],
   "source": [
    "def correctly_measured(attr):\n",
    "    # none - int -> False\n",
    "    # 0 - none -> True\n",
    "    # (int > 0) - none -> False\n",
    "    # int - int != 1 -> False\n",
    "    # int - int == 1 -> True\n",
    "    prev = attr['prev']\n",
    "    act = attr['act']\n",
    "    if act == 0:\n",
    "        return 1\n",
    "    if prev == None:\n",
    "        return 0\n",
    "    if act - prev != 1:\n",
    "        return 0\n",
    "    return 1\n",
    "\n",
    "def check_measurement(graph):\n",
    "    # returns (correct, total)\n",
    "    measured = {}\n",
    "    for idx, attr in graph.nodes_iter(data=True):\n",
    "        measured[idx] = correctly_measured(attr)\n",
    "    return sum(measured.values()), len(graph)\n",
    "\n",
    "def measurement_status(graph):\n",
    "    n = graph.number_of_nodes()\n",
    "    inactive_node_set = set(graph.node.keys())\n",
    "    checked_no_activation_node_set = set()\n",
    "    for idx in range(n):\n",
    "        graph.node[idx]['active'] = False\n",
    "        graph.node[idx]['prev'] = None\n",
    "        graph.node[idx]['act'] = None    \n",
    "    while True:\n",
    "        if len(inactive_node_set) == 0:\n",
    "            return check_measurement(graph)\n",
    "        to_check = random.sample(inactive_node_set, 1)[0]\n",
    "        nbrs = graph.neighbors(to_check)\n",
    "        th = graph.node[to_check]['th']\n",
    "        active_nbrs = sum([graph.node[x]['active'] for x in nbrs])\n",
    "        if active_nbrs >= th:\n",
    "            graph.node[to_check]['active'] = True\n",
    "            graph.node[to_check]['act'] = active_nbrs\n",
    "            inactive_node_set -= set([to_check])\n",
    "            checked_no_activation_node_set = set()\n",
    "        else:\n",
    "            graph.node[to_check]['prev'] = active_nbrs\n",
    "            checked_no_activation_node_set.add(to_check)\n",
    "\n",
    "graph_measurements = {}            \n",
    "\n",
    "for graph in saturated_graphs:\n",
    "    el = graph.edges()\n",
    "    th = [x['th'] for x in graph.node.values()]\n",
    "    \n",
    "    sig = str(el) + ' ' + str(th)\n",
    "    graph_measurements[sig] = {'correct': 0, 'total': 0}\n",
    "    \n",
    "    for _ in range(100):\n",
    "        correct, total = measurement_status(graph)\n",
    "        graph_measurements[sig]['correct'] += correct\n",
    "        graph_measurements[sig]['total'] += total\n",
    "\n",
    "print(graph_measurements)"
   ]
  },
  {
   "cell_type": "code",
   "execution_count": null,
   "metadata": {
    "collapsed": true
   },
   "outputs": [],
   "source": []
  }
 ],
 "metadata": {
  "kernelspec": {
   "display_name": "Python 3",
   "language": "python",
   "name": "python3"
  },
  "language_info": {
   "codemirror_mode": {
    "name": "ipython",
    "version": 3
   },
   "file_extension": ".py",
   "mimetype": "text/x-python",
   "name": "python",
   "nbconvert_exporter": "python",
   "pygments_lexer": "ipython3",
   "version": "3.6.1"
  }
 },
 "nbformat": 4,
 "nbformat_minor": 2
}
