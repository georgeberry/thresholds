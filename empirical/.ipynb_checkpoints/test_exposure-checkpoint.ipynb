{
 "cells": [
  {
   "cell_type": "code",
   "execution_count": 3,
   "metadata": {
    "collapsed": true,
    "deletable": true,
    "editable": true
   },
   "outputs": [],
   "source": [
    "import io\n",
    "import datetime\n",
    "import itertools as itr\n",
    "import collections as coll\n",
    "import pprint\n",
    "import pandas as pd\n",
    "\n",
    "# %matplotlib inline\n",
    "\n",
    "pp = pprint.PrettyPrinter(indent=2)\n",
    "PS_DATE_FMT = \"%Y-%m-%d %H:%M:%S\""
   ]
  },
  {
   "cell_type": "code",
   "execution_count": 5,
   "metadata": {
    "collapsed": false,
    "deletable": true,
    "editable": true
   },
   "outputs": [],
   "source": [
    "data = '/Users/cjc73/Expire/test_update_times2.tsv'"
   ]
  },
  {
   "cell_type": "code",
   "execution_count": 6,
   "metadata": {
    "collapsed": false,
    "deletable": true,
    "editable": true
   },
   "outputs": [],
   "source": [
    "def make_list(list_str):\n",
    "    return [datetime.datetime.strptime(x[1:-1], PS_DATE_FMT) for x in list_str[1:-1].split(',')]\n",
    "\n",
    "def data_parser(in_file_name):\n",
    "    with open(in_file_name) as infile:\n",
    "        for line in infile:\n",
    "            elements = line.strip().split('\\t')\n",
    "            if len(elements) != 4:\n",
    "                continue\n",
    "            yield (elements[0], elements[1], make_list(elements[2]), make_list(elements[3]))\n"
   ]
  },
  {
   "cell_type": "code",
   "execution_count": 26,
   "metadata": {
    "collapsed": false,
    "deletable": true,
    "editable": true
   },
   "outputs": [],
   "source": [
    "def compute_exposure_stats(line_elements):\n",
    "    uid, tag, ego, nbr = line_elements\n",
    "    #pp.pprint(ego)\n",
    "    #print()\n",
    "    #pp.pprint(nbr)\n",
    "    #print()\n",
    "\n",
    "    e_idx = 0 \n",
    "    n_idx = 0 \n",
    "    exposure_inc = 0\n",
    "    total_exp = 0\n",
    "    hist_too_short = 0\n",
    "    ego_span = ego[0]-ego[-1]\n",
    "\n",
    "    # ignore nbr uses after ego's use\n",
    "    while nbr[n_idx] >= ego[e_idx]:\n",
    "        n_idx += 1\n",
    "        if n_idx == len(nbr):\n",
    "            # No exposure prior to adoption, return zeros\n",
    "            return (uid, tag, exposure_inc, total_exp, e_idx, hist_too_short, ego_span)\n",
    "\n",
    "    # total number of exposures before adoption\n",
    "    # is this correct? \n",
    "    total_exp = len(nbr) - n_idx\n",
    "    \n",
    "    if ego and nbr:\n",
    "        hist_too_short = ego[-1] > nbr[n_idx]\n",
    "    if hist_too_short:\n",
    "        return (uid, tag, exposure_inc, total_exp, len(ego), hist_too_short, ego_span)\n",
    "    \n",
    "    # strip non-exposure intervals from head\n",
    "    # possibility of crossing?\n",
    "    while nbr[n_idx] < ego[e_idx]:\n",
    "        e_idx += 1\n",
    "        if e_idx == len(ego):\n",
    "            # User history too short to overlap\n",
    "            return (uid, tag, exposure_inc, total_exp, e_idx, hist_too_short, ego_span)\n",
    "\n",
    "\n",
    "    # Computation can proceed\n",
    "    n_inc_idx = n_idx\n",
    "    len_nbr = len(nbr)\n",
    "    while n_inc_idx < len_nbr: # and e_idx < len(ego):\n",
    "        if nbr[n_inc_idx] >= ego[e_idx]:\n",
    "            # print(n_inc_idx, e_idx)\n",
    "            # print(\"{} greater than {}\".format(nbr[n_inc_idx], ego[e_idx]))\n",
    "            exposure_inc += 1\n",
    "            n_inc_idx += 1            \n",
    "        else:\n",
    "            break\n",
    "\n",
    "    return (uid, tag, exposure_inc, total_exp, e_idx, hist_too_short, ego_span)\n",
    "\n"
   ]
  },
  {
   "cell_type": "code",
   "execution_count": 28,
   "metadata": {
    "collapsed": false,
    "deletable": true,
    "editable": true
   },
   "outputs": [
    {
     "name": "stdout",
     "output_type": "stream",
     "text": [
      "CPU times: user 2min 16s, sys: 701 ms, total: 2min 16s\n",
      "Wall time: 2min 17s\n"
     ]
    }
   ],
   "source": [
    "%%time\n",
    "dp = data_parser(data)\n",
    "exposure_data = [compute_exposure_stats(x) for x in dp]\n",
    "exp_df = pd.DataFrame.from_records(exposure_data, columns=['uid', 'tag', 'exposure_inc', 'total_exp', 'hist_len', 'err', 'span'])"
   ]
  },
  {
   "cell_type": "code",
   "execution_count": 29,
   "metadata": {
    "collapsed": false,
    "deletable": true,
    "editable": true
   },
   "outputs": [
    {
     "data": {
      "text/html": [
       "<div>\n",
       "<table border=\"1\" class=\"dataframe\">\n",
       "  <thead>\n",
       "    <tr style=\"text-align: right;\">\n",
       "      <th></th>\n",
       "      <th>uid</th>\n",
       "      <th>tag</th>\n",
       "      <th>exposure_inc</th>\n",
       "      <th>total_exp</th>\n",
       "      <th>hist_len</th>\n",
       "      <th>err</th>\n",
       "      <th>span</th>\n",
       "    </tr>\n",
       "  </thead>\n",
       "  <tbody>\n",
       "    <tr>\n",
       "      <th>0</th>\n",
       "      <td>1497</td>\n",
       "      <td>sub</td>\n",
       "      <td>0</td>\n",
       "      <td>1</td>\n",
       "      <td>101</td>\n",
       "      <td>True</td>\n",
       "      <td>10 days 16:27:35</td>\n",
       "    </tr>\n",
       "    <tr>\n",
       "      <th>1</th>\n",
       "      <td>3520</td>\n",
       "      <td>yeahright</td>\n",
       "      <td>0</td>\n",
       "      <td>4</td>\n",
       "      <td>101</td>\n",
       "      <td>True</td>\n",
       "      <td>44 days 04:50:25</td>\n",
       "    </tr>\n",
       "    <tr>\n",
       "      <th>2</th>\n",
       "      <td>3936</td>\n",
       "      <td>yeahright</td>\n",
       "      <td>0</td>\n",
       "      <td>7</td>\n",
       "      <td>101</td>\n",
       "      <td>True</td>\n",
       "      <td>5 days 03:47:54</td>\n",
       "    </tr>\n",
       "    <tr>\n",
       "      <th>3</th>\n",
       "      <td>8906</td>\n",
       "      <td>yeahright</td>\n",
       "      <td>0</td>\n",
       "      <td>0</td>\n",
       "      <td>0</td>\n",
       "      <td>0</td>\n",
       "      <td>26 days 23:53:14</td>\n",
       "    </tr>\n",
       "    <tr>\n",
       "      <th>4</th>\n",
       "      <td>10424</td>\n",
       "      <td>flappybird</td>\n",
       "      <td>0</td>\n",
       "      <td>0</td>\n",
       "      <td>0</td>\n",
       "      <td>0</td>\n",
       "      <td>31 days 10:54:07</td>\n",
       "    </tr>\n",
       "  </tbody>\n",
       "</table>\n",
       "</div>"
      ],
      "text/plain": [
       "     uid         tag  exposure_inc  total_exp  hist_len   err             span\n",
       "0   1497         sub             0          1       101  True 10 days 16:27:35\n",
       "1   3520   yeahright             0          4       101  True 44 days 04:50:25\n",
       "2   3936   yeahright             0          7       101  True  5 days 03:47:54\n",
       "3   8906   yeahright             0          0         0     0 26 days 23:53:14\n",
       "4  10424  flappybird             0          0         0     0 31 days 10:54:07"
      ]
     },
     "execution_count": 29,
     "metadata": {},
     "output_type": "execute_result"
    }
   ],
   "source": [
    "exp_df.head()"
   ]
  },
  {
   "cell_type": "code",
   "execution_count": 30,
   "metadata": {
    "collapsed": true,
    "deletable": true,
    "editable": true
   },
   "outputs": [],
   "source": [
    "exp_df.to_csv(\"tag_data_computations.txt\", index=None)"
   ]
  },
  {
   "cell_type": "code",
   "execution_count": null,
   "metadata": {
    "collapsed": false,
    "deletable": true,
    "editable": true
   },
   "outputs": [],
   "source": [
    "28932/53763"
   ]
  },
  {
   "cell_type": "code",
   "execution_count": null,
   "metadata": {
    "collapsed": false,
    "deletable": true,
    "editable": true
   },
   "outputs": [],
   "source": [
    "(exp_df.err).mean()"
   ]
  },
  {
   "cell_type": "markdown",
   "metadata": {
    "collapsed": false,
    "deletable": true,
    "editable": true
   },
   "source": [
    "### exp_df.span[(exp_df.err == True) & (exp_df.hist_len == 101)].astype('timedelta64[h]').hist(bins=50)"
   ]
  },
  {
   "cell_type": "code",
   "execution_count": 36,
   "metadata": {
    "collapsed": false,
    "deletable": true,
    "editable": true
   },
   "outputs": [
    {
     "data": {
      "text/plain": [
       "375.0"
      ]
     },
     "execution_count": 36,
     "metadata": {},
     "output_type": "execute_result"
    }
   ],
   "source": [
    "exp_df.span[(exp_df.err == True) & (exp_df.hist_len == 101)].astype('timedelta64[h]').median()"
   ]
  },
  {
   "cell_type": "code",
   "execution_count": 37,
   "metadata": {
    "collapsed": false,
    "deletable": true,
    "editable": true
   },
   "outputs": [
    {
     "data": {
      "text/plain": [
       "15.0"
      ]
     },
     "execution_count": 37,
     "metadata": {},
     "output_type": "execute_result"
    }
   ],
   "source": [
    "375/25"
   ]
  },
  {
   "cell_type": "code",
   "execution_count": 24,
   "metadata": {
    "collapsed": false,
    "deletable": true,
    "editable": true
   },
   "outputs": [
    {
     "data": {
      "text/plain": [
       "Counter({1: 20,\n",
       "         2: 19,\n",
       "         3: 12,\n",
       "         4: 14,\n",
       "         5: 17,\n",
       "         6: 10,\n",
       "         7: 21,\n",
       "         8: 20,\n",
       "         9: 12,\n",
       "         10: 14,\n",
       "         11: 28,\n",
       "         12: 20,\n",
       "         13: 19,\n",
       "         14: 15,\n",
       "         15: 15,\n",
       "         16: 14,\n",
       "         17: 15,\n",
       "         18: 18,\n",
       "         19: 12,\n",
       "         20: 13,\n",
       "         21: 20,\n",
       "         22: 14,\n",
       "         23: 12,\n",
       "         24: 12,\n",
       "         25: 16,\n",
       "         26: 17,\n",
       "         27: 15,\n",
       "         28: 14,\n",
       "         29: 17,\n",
       "         30: 16,\n",
       "         31: 16,\n",
       "         32: 9,\n",
       "         33: 13,\n",
       "         34: 23,\n",
       "         35: 15,\n",
       "         36: 12,\n",
       "         37: 15,\n",
       "         38: 16,\n",
       "         39: 10,\n",
       "         40: 10,\n",
       "         41: 11,\n",
       "         42: 19,\n",
       "         43: 7,\n",
       "         44: 23,\n",
       "         45: 10,\n",
       "         46: 19,\n",
       "         47: 18,\n",
       "         48: 7,\n",
       "         49: 15,\n",
       "         50: 13,\n",
       "         51: 23,\n",
       "         52: 17,\n",
       "         53: 11,\n",
       "         54: 11,\n",
       "         55: 19,\n",
       "         56: 18,\n",
       "         57: 17,\n",
       "         58: 13,\n",
       "         59: 16,\n",
       "         60: 12,\n",
       "         61: 15,\n",
       "         62: 15,\n",
       "         63: 15,\n",
       "         64: 13,\n",
       "         65: 15,\n",
       "         66: 14,\n",
       "         67: 17,\n",
       "         68: 20,\n",
       "         69: 10,\n",
       "         70: 16,\n",
       "         71: 15,\n",
       "         72: 17,\n",
       "         73: 10,\n",
       "         74: 15,\n",
       "         75: 20,\n",
       "         76: 14,\n",
       "         77: 14,\n",
       "         78: 18,\n",
       "         79: 18,\n",
       "         80: 13,\n",
       "         81: 12,\n",
       "         82: 16,\n",
       "         83: 11,\n",
       "         84: 12,\n",
       "         85: 10,\n",
       "         86: 9,\n",
       "         87: 9,\n",
       "         88: 13,\n",
       "         89: 13,\n",
       "         90: 10,\n",
       "         91: 17,\n",
       "         92: 7,\n",
       "         93: 17,\n",
       "         94: 14,\n",
       "         95: 16,\n",
       "         96: 16,\n",
       "         97: 15,\n",
       "         98: 15,\n",
       "         99: 4,\n",
       "         100: 12,\n",
       "         101: 28932})"
      ]
     },
     "execution_count": 24,
     "metadata": {},
     "output_type": "execute_result"
    }
   ],
   "source": [
    "coll.Counter((exp_df.hist_len[(exp_df.err == True) & (exp_df.hist_len == 101)]))"
   ]
  },
  {
   "cell_type": "code",
   "execution_count": 13,
   "metadata": {
    "collapsed": false,
    "deletable": true,
    "editable": true
   },
   "outputs": [
    {
     "data": {
      "text/plain": [
       "Counter({1: 3129,\n",
       "         2: 662,\n",
       "         3: 302,\n",
       "         4: 166,\n",
       "         5: 116,\n",
       "         6: 76,\n",
       "         7: 70,\n",
       "         8: 60,\n",
       "         9: 58,\n",
       "         10: 40,\n",
       "         11: 31,\n",
       "         12: 28,\n",
       "         13: 21,\n",
       "         14: 19,\n",
       "         15: 17,\n",
       "         16: 22,\n",
       "         17: 11,\n",
       "         18: 15,\n",
       "         19: 6,\n",
       "         20: 5,\n",
       "         21: 17,\n",
       "         22: 5,\n",
       "         23: 8,\n",
       "         24: 9,\n",
       "         25: 9,\n",
       "         26: 2,\n",
       "         27: 3,\n",
       "         28: 7,\n",
       "         29: 3,\n",
       "         30: 2,\n",
       "         31: 4,\n",
       "         33: 4,\n",
       "         34: 3,\n",
       "         36: 1,\n",
       "         37: 1,\n",
       "         38: 3,\n",
       "         39: 3,\n",
       "         40: 3,\n",
       "         42: 1,\n",
       "         43: 3,\n",
       "         44: 2,\n",
       "         45: 1,\n",
       "         46: 1,\n",
       "         47: 2,\n",
       "         48: 1,\n",
       "         49: 2,\n",
       "         52: 1,\n",
       "         53: 4,\n",
       "         54: 1,\n",
       "         55: 1,\n",
       "         57: 1,\n",
       "         60: 1,\n",
       "         62: 1,\n",
       "         67: 1,\n",
       "         70: 1,\n",
       "         71: 1,\n",
       "         74: 1})"
      ]
     },
     "execution_count": 13,
     "metadata": {},
     "output_type": "execute_result"
    }
   ],
   "source": [
    "coll.Counter(exp_df.total_exp[exp_df.exposure_inc==1])"
   ]
  },
  {
   "cell_type": "code",
   "execution_count": 30,
   "metadata": {
    "collapsed": false,
    "deletable": true,
    "editable": true
   },
   "outputs": [
    {
     "name": "stdout",
     "output_type": "stream",
     "text": [
      "[ datetime.datetime(2013, 8, 6, 2, 26, 56),\n",
      "  datetime.datetime(2013, 8, 6, 2, 24, 57),\n",
      "  datetime.datetime(2013, 8, 5, 21, 11, 22),\n",
      "  datetime.datetime(2013, 8, 5, 21, 8, 36),\n",
      "  datetime.datetime(2013, 8, 5, 20, 51),\n",
      "  datetime.datetime(2013, 8, 5, 20, 39, 18),\n",
      "  datetime.datetime(2013, 8, 5, 18, 45),\n",
      "  datetime.datetime(2013, 8, 5, 18, 44, 45),\n",
      "  datetime.datetime(2013, 8, 5, 18, 10, 51),\n",
      "  datetime.datetime(2013, 8, 5, 13, 28, 15),\n",
      "  datetime.datetime(2013, 8, 5, 13, 24, 13)]\n",
      "\n",
      "[ datetime.datetime(2014, 5, 17, 19, 49, 10),\n",
      "  datetime.datetime(2013, 6, 21, 19, 17, 47)]\n",
      "\n",
      "'Exposure Inc: 0'\n",
      "'Total Exp: 1'\n"
     ]
    }
   ],
   "source": [
    "first = next(dp)\n",
    "exposure_inc, total_exp = compute_exposure_stats(first)\n",
    "pp.pprint(\"Exposure Inc: {}\".format(exposure_inc))\n",
    "pp.pprint(\"Total Exp: {}\".format(total_exp))\n"
   ]
  },
  {
   "cell_type": "code",
   "execution_count": null,
   "metadata": {
    "collapsed": false,
    "deletable": true,
    "editable": true
   },
   "outputs": [],
   "source": []
  },
  {
   "cell_type": "code",
   "execution_count": 51,
   "metadata": {
    "collapsed": false,
    "deletable": true,
    "editable": true
   },
   "outputs": [
    {
     "ename": "SyntaxError",
     "evalue": "unexpected EOF while parsing (<ipython-input-51-22ce67c616da>, line 4)",
     "output_type": "error",
     "traceback": [
      "\u001b[0;36m  File \u001b[0;32m\"<ipython-input-51-22ce67c616da>\"\u001b[0;36m, line \u001b[0;32m4\u001b[0m\n\u001b[0;31m    while bar[0] <= foo[0]:\u001b[0m\n\u001b[0m                           ^\u001b[0m\n\u001b[0;31mSyntaxError\u001b[0m\u001b[0;31m:\u001b[0m unexpected EOF while parsing\n"
     ]
    }
   ],
   "source": [
    "ego = first[2]\n",
    "nbr = first[3]\n",
    "\n",
    "e_idx = 0 \n",
    "n_idx = 0 \n",
    "# ignore nbr uses after ego's use\n",
    "while nbr[n_idx] >= ego[e_idx]:\n",
    "    n_idx += 1\n",
    "    if n_idx >= len(nbr):\n",
    "        return 0\n",
    "\n",
    "# total number of exposures before adoption\n",
    "total_exp = len(nbr) - n_idx\n",
    "\n"
   ]
  },
  {
   "cell_type": "code",
   "execution_count": 16,
   "metadata": {
    "collapsed": false,
    "deletable": true,
    "editable": true
   },
   "outputs": [
    {
     "data": {
      "text/plain": [
       "'{\"2013-04-14 02:36:56\",\"2013-04-14 02:36:56\",\"2013-04-14 02:36:56\",\"2013-04-14 02:22:10\",\"2013-04-13 19:49:18\",\"2013-04-13 17:03:43\",\"2013-04-13 17:03:43\",\"2013-04-12 17:03:37\",\"2013-04-12 17:03:37\",\"2013-04-12 15:01:16\",\"2013-04-12 04:03:38\"}'"
      ]
     },
     "execution_count": 16,
     "metadata": {},
     "output_type": "execute_result"
    }
   ],
   "source": [
    "date_list"
   ]
  },
  {
   "cell_type": "code",
   "execution_count": 22,
   "metadata": {
    "collapsed": false,
    "deletable": true,
    "editable": true
   },
   "outputs": [
    {
     "data": {
      "text/plain": [
       "[datetime.datetime(2013, 4, 14, 2, 36, 56),\n",
       " datetime.datetime(2013, 4, 14, 2, 36, 56),\n",
       " datetime.datetime(2013, 4, 14, 2, 36, 56),\n",
       " datetime.datetime(2013, 4, 14, 2, 22, 10),\n",
       " datetime.datetime(2013, 4, 13, 19, 49, 18),\n",
       " datetime.datetime(2013, 4, 13, 17, 3, 43),\n",
       " datetime.datetime(2013, 4, 13, 17, 3, 43),\n",
       " datetime.datetime(2013, 4, 12, 17, 3, 37),\n",
       " datetime.datetime(2013, 4, 12, 17, 3, 37),\n",
       " datetime.datetime(2013, 4, 12, 15, 1, 16),\n",
       " datetime.datetime(2013, 4, 12, 4, 3, 38)]"
      ]
     },
     "execution_count": 22,
     "metadata": {},
     "output_type": "execute_result"
    }
   ],
   "source": [
    "[datetime.datetime.strptime(x[1:-1], PS_DATE_FMT) for x in date_list[1:-1].split(',')]"
   ]
  },
  {
   "cell_type": "code",
   "execution_count": 52,
   "metadata": {
    "collapsed": false,
    "deletable": true,
    "editable": true
   },
   "outputs": [],
   "source": [
    "line = \"foo\\tbar\\n\"\n",
    "foo = line.strip().split('\\t')"
   ]
  },
  {
   "cell_type": "code",
   "execution_count": 53,
   "metadata": {
    "collapsed": false,
    "deletable": true,
    "editable": true
   },
   "outputs": [
    {
     "data": {
      "text/plain": [
       "['foo', 'bar']"
      ]
     },
     "execution_count": 53,
     "metadata": {},
     "output_type": "execute_result"
    }
   ],
   "source": [
    "foo"
   ]
  },
  {
   "cell_type": "code",
   "execution_count": 54,
   "metadata": {
    "collapsed": false,
    "deletable": true,
    "editable": true
   },
   "outputs": [
    {
     "data": {
      "text/plain": [
       "'bar'"
      ]
     },
     "execution_count": 54,
     "metadata": {},
     "output_type": "execute_result"
    }
   ],
   "source": [
    "foo.pop()"
   ]
  },
  {
   "cell_type": "code",
   "execution_count": null,
   "metadata": {
    "collapsed": true,
    "deletable": true,
    "editable": true
   },
   "outputs": [],
   "source": []
  }
 ],
 "metadata": {
  "anaconda-cloud": {},
  "kernelspec": {
   "display_name": "Python 3",
   "language": "python",
   "name": "python3"
  },
  "language_info": {
   "codemirror_mode": {
    "name": "ipython",
    "version": 3
   },
   "file_extension": ".py",
   "mimetype": "text/x-python",
   "name": "python",
   "nbconvert_exporter": "python",
   "pygments_lexer": "ipython3",
   "version": "3.6.1"
  }
 },
 "nbformat": 4,
 "nbformat_minor": 2
}
