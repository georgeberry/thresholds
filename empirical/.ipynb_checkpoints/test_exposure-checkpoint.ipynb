{
 "cells": [
  {
   "cell_type": "code",
   "execution_count": 13,
   "metadata": {
    "collapsed": true,
    "deletable": true,
    "editable": true
   },
   "outputs": [],
   "source": [
    "import io\n",
    "import datetime\n",
    "import itertools as itr\n",
    "import collections as coll\n",
    "import pprint\n",
    "import pandas as pd\n",
    "\n",
    "# %matplotlib inline\n",
    "\n",
    "pp = pprint.PrettyPrinter(indent=2)\n",
    "PS_DATE_FMT = \"%Y-%m-%d %H:%M:%S\""
   ]
  },
  {
   "cell_type": "code",
   "execution_count": 14,
   "metadata": {
    "collapsed": false,
    "deletable": true,
    "editable": true
   },
   "outputs": [],
   "source": [
    "# contains ego ht usage and alter updates\n",
    "agg_path = '/Users/g/Desktop/temp/agg_first_usages.tsv'\n",
    "# contains all ego updates\n",
    "ego_updates_path = '/Users/g/Desktop/temp/ego_updates.tsv'"
   ]
  },
  {
   "cell_type": "code",
   "execution_count": 15,
   "metadata": {
    "collapsed": false,
    "deletable": true,
    "editable": true
   },
   "outputs": [],
   "source": [
    "def make_list(list_str):\n",
    "    '''\n",
    "    Strips {} from the entire array str then strips \"\" from each entry\n",
    "    Finally makes date using the date format\n",
    "    '''\n",
    "    l = [\n",
    "        datetime.datetime.strptime(x.strip('\"'), PS_DATE_FMT)\n",
    "        for x in list_str.strip('{}').split(',')\n",
    "    ]\n",
    "    return l\n",
    "\n",
    "def agg_parser(agg_path):\n",
    "    '''\n",
    "    4 columns:\n",
    "        uid\n",
    "        hashtag\n",
    "        ego_first_usage\n",
    "        alter_updates\n",
    "        \n",
    "    Returns tuple\n",
    "    '''\n",
    "    with open(agg_path) as f:\n",
    "        for line in f:\n",
    "            elements = line.strip().split('\\t')\n",
    "            assert len(elements) == 4, 'Agg row does not have 4 cols'\n",
    "            uid = elements[0]\n",
    "            tag = elements[1]\n",
    "            ego_first_usage = datetime.datetime.strptime(elements[2], PS_DATE_FMT)\n",
    "            alter_updates = make_list(elements[3])\n",
    "            yield uid, tag, ego_first_usage, alter_updates\n",
    "\n",
    "def ego_updates_parser(ego_updates_path):\n",
    "    '''\n",
    "    2 columns:\n",
    "        uid\n",
    "        ego_updates\n",
    "    '''\n",
    "    with open(ego_updates_path) as f:\n",
    "        for line in f:\n",
    "            elements = line.strip().split('\\t')\n",
    "            assert len(elements) == 2, 'Ego updates row does not have 4 cols'\n",
    "            uid = elements[0]\n",
    "            ego_updates = make_list(elements[1])\n",
    "            yield uid, ego_updates"
   ]
  },
  {
   "cell_type": "code",
   "execution_count": 16,
   "metadata": {
    "collapsed": false,
    "deletable": true,
    "editable": true
   },
   "outputs": [],
   "source": [
    "def compute_exposure_stats(\n",
    "    uid,\n",
    "    tag,\n",
    "    ego_first_usage,\n",
    "    alter_updates,\n",
    "    ego_updates):\n",
    "    '''\n",
    "    Pass this function everything we need to compute one (ego, hashtag) pair\n",
    "    \n",
    "    Algorithm:\n",
    "        1. Trim such that all ego_updates <= ego_first_usage\n",
    "        2. Trim such that all alter_updates <= ego_first_usage\n",
    "        3. \n",
    "        \n",
    "    Returns\n",
    "    '''\n",
    "\n",
    "    e_idx = ego_updates.index(ego_first_usage) # automatically start in right place\n",
    "    n_idx = 0 # neighbor update index\n",
    "    exposure_inc = 0\n",
    "    total_exp = 0\n",
    "    hist_too_short = False\n",
    "    span = ego_updates[e_idx] - ego_updates[-1]\n",
    "    \n",
    "    # ignore nbr usages after ego's use\n",
    "    while alter_updates[n_idx] >= ego_updates[e_idx]:\n",
    "        n_idx += 1\n",
    "        if n_idx == len(alter_updates):\n",
    "            # No exposure prior to adoption, return zeros\n",
    "            return (uid, tag, exposure_inc, total_exp, hist_too_short, span)\n",
    "\n",
    "    # total number of exposures before adoption\n",
    "    total_exp = len(alter_updates) - n_idx\n",
    "    \n",
    "    # if last ego update is after the most recent alter update, bail out\n",
    "    if ego_updates and alter_updates:\n",
    "        hist_too_short = ego_updates[-1] > alter_updates[n_idx]\n",
    "    if hist_too_short:\n",
    "        return (uid, tag, exposure_inc, total_exp, hist_too_short, span)\n",
    "    \n",
    "    # strip non-exposure intervals from head\n",
    "    while ego_updates[e_idx] > alter_updates[n_idx]:\n",
    "        e_idx += 1\n",
    "        if e_idx == len(ego_updates):\n",
    "            # User history too short to overlap\n",
    "            return (uid, tag, exposure_inc, total_exp, hist_too_short, span)\n",
    "\n",
    "    # Computation can proceed\n",
    "    n_inc_idx = n_idx\n",
    "    len_nbr = len(alter_updates)\n",
    "    while n_inc_idx < len_nbr: # and e_idx < len(ego):\n",
    "        if alter_updates[n_inc_idx] >= ego_updates[e_idx]:\n",
    "            # print(n_inc_idx, e_idx)\n",
    "            # print(\"{} greater than {}\".format(nbr[n_inc_idx], ego[e_idx]))\n",
    "            exposure_inc += 1\n",
    "            n_inc_idx += 1            \n",
    "        else:\n",
    "            break\n",
    "\n",
    "    return (uid, tag, exposure_inc, total_exp, hist_too_short, span)"
   ]
  },
  {
   "cell_type": "code",
   "execution_count": 22,
   "metadata": {
    "collapsed": false,
    "deletable": true,
    "editable": true
   },
   "outputs": [
    {
     "name": "stdout",
     "output_type": "stream",
     "text": [
      "CPU times: user 3.64 s, sys: 46.1 ms, total: 3.68 s\n",
      "Wall time: 3.75 s\n"
     ]
    }
   ],
   "source": [
    "%%time\n",
    "\n",
    "# need to pre-load the ego_updates since we will use them many times\n",
    "\n",
    "\n",
    "ego_updates_dict = {}\n",
    "for uid, ego_updates in ego_updates_parser(ego_updates_path):\n",
    "    ego_updates_dict[uid] = ego_updates\n",
    "    if len(ego_updates_dict) % 10000 == 0:\n",
    "        break\n",
    "\n",
    "\n",
    "        \n",
    "'''\n",
    "exposure_data = []\n",
    "for uid, tag, ego_first_usage, alter_updates in agg_parser(agg_path):\n",
    "    if uid in ego_updates_dict:\n",
    "        res = compute_exposure_stats(\n",
    "            uid, tag, ego_first_usage, alter_updates, ego_updates_dict[uid]\n",
    "        )\n",
    "        exposure_data.append(res)\n",
    "\n",
    "exp_df = pd.DataFrame.from_records(exposure_data, columns=['uid', 'tag', 'exposure_inc', 'total_exp', 'err', 'span'])\n",
    "'''"
   ]
  },
  {
   "cell_type": "code",
   "execution_count": 11,
   "metadata": {
    "collapsed": false,
    "deletable": true,
    "editable": true,
    "scrolled": false
   },
   "outputs": [
    {
     "data": {
      "text/html": [
       "<div>\n",
       "<table border=\"1\" class=\"dataframe\">\n",
       "  <thead>\n",
       "    <tr style=\"text-align: right;\">\n",
       "      <th></th>\n",
       "      <th>uid</th>\n",
       "      <th>tag</th>\n",
       "      <th>exposure_inc</th>\n",
       "      <th>total_exp</th>\n",
       "      <th>err</th>\n",
       "      <th>span</th>\n",
       "    </tr>\n",
       "  </thead>\n",
       "  <tbody>\n",
       "    <tr>\n",
       "      <th>0</th>\n",
       "      <td>22167545</td>\n",
       "      <td>yeahright</td>\n",
       "      <td>1</td>\n",
       "      <td>2</td>\n",
       "      <td>False</td>\n",
       "      <td>1274 days 22:59:32</td>\n",
       "    </tr>\n",
       "    <tr>\n",
       "      <th>1</th>\n",
       "      <td>23270835</td>\n",
       "      <td>yeahright</td>\n",
       "      <td>0</td>\n",
       "      <td>0</td>\n",
       "      <td>False</td>\n",
       "      <td>231 days 17:06:43</td>\n",
       "    </tr>\n",
       "    <tr>\n",
       "      <th>2</th>\n",
       "      <td>23349470</td>\n",
       "      <td>rare</td>\n",
       "      <td>0</td>\n",
       "      <td>0</td>\n",
       "      <td>False</td>\n",
       "      <td>968 days 15:54:34</td>\n",
       "    </tr>\n",
       "    <tr>\n",
       "      <th>3</th>\n",
       "      <td>27107246</td>\n",
       "      <td>thetruth</td>\n",
       "      <td>1</td>\n",
       "      <td>1</td>\n",
       "      <td>False</td>\n",
       "      <td>1637 days 01:33:41</td>\n",
       "    </tr>\n",
       "    <tr>\n",
       "      <th>4</th>\n",
       "      <td>27578762</td>\n",
       "      <td>thetruth</td>\n",
       "      <td>0</td>\n",
       "      <td>0</td>\n",
       "      <td>False</td>\n",
       "      <td>662 days 02:23:11</td>\n",
       "    </tr>\n",
       "    <tr>\n",
       "      <th>5</th>\n",
       "      <td>30310944</td>\n",
       "      <td>FuckIt</td>\n",
       "      <td>0</td>\n",
       "      <td>0</td>\n",
       "      <td>False</td>\n",
       "      <td>81 days 13:19:45</td>\n",
       "    </tr>\n",
       "    <tr>\n",
       "      <th>6</th>\n",
       "      <td>32480116</td>\n",
       "      <td>yeahright</td>\n",
       "      <td>0</td>\n",
       "      <td>1</td>\n",
       "      <td>True</td>\n",
       "      <td>773 days 02:08:10</td>\n",
       "    </tr>\n",
       "    <tr>\n",
       "      <th>7</th>\n",
       "      <td>33148717</td>\n",
       "      <td>rare</td>\n",
       "      <td>0</td>\n",
       "      <td>5</td>\n",
       "      <td>True</td>\n",
       "      <td>0 days 22:48:43</td>\n",
       "    </tr>\n",
       "    <tr>\n",
       "      <th>8</th>\n",
       "      <td>33700456</td>\n",
       "      <td>rare</td>\n",
       "      <td>1</td>\n",
       "      <td>4</td>\n",
       "      <td>False</td>\n",
       "      <td>39 days 05:26:01</td>\n",
       "    </tr>\n",
       "    <tr>\n",
       "      <th>9</th>\n",
       "      <td>33846841</td>\n",
       "      <td>noexcuses</td>\n",
       "      <td>1</td>\n",
       "      <td>1</td>\n",
       "      <td>False</td>\n",
       "      <td>741 days 22:11:26</td>\n",
       "    </tr>\n",
       "  </tbody>\n",
       "</table>\n",
       "</div>"
      ],
      "text/plain": [
       "        uid        tag  exposure_inc  total_exp    err               span\n",
       "0  22167545  yeahright             1          2  False 1274 days 22:59:32\n",
       "1  23270835  yeahright             0          0  False  231 days 17:06:43\n",
       "2  23349470       rare             0          0  False  968 days 15:54:34\n",
       "3  27107246   thetruth             1          1  False 1637 days 01:33:41\n",
       "4  27578762   thetruth             0          0  False  662 days 02:23:11\n",
       "5  30310944     FuckIt             0          0  False   81 days 13:19:45\n",
       "6  32480116  yeahright             0          1   True  773 days 02:08:10\n",
       "7  33148717       rare             0          5   True    0 days 22:48:43\n",
       "8  33700456       rare             1          4  False   39 days 05:26:01\n",
       "9  33846841  noexcuses             1          1  False  741 days 22:11:26"
      ]
     },
     "execution_count": 11,
     "metadata": {},
     "output_type": "execute_result"
    }
   ],
   "source": [
    "test_ids = set(['22167545',\n",
    "               '23270835',\n",
    "               '23349470',\n",
    "               '27107246',\n",
    "               '27578762',\n",
    "               '30310944',\n",
    "               '32480116',\n",
    "               '33148717',\n",
    "               '33700456',\n",
    "               '33846841'])\n",
    "exp_df.loc[exp_df.uid.isin(test_ids),:]"
   ]
  },
  {
   "cell_type": "code",
   "execution_count": 12,
   "metadata": {
    "collapsed": false,
    "deletable": true,
    "editable": true
   },
   "outputs": [
    {
     "data": {
      "text/plain": [
       "Counter({0: 51, 1: 59, 2: 1})"
      ]
     },
     "execution_count": 12,
     "metadata": {},
     "output_type": "execute_result"
    }
   ],
   "source": [
    "coll.Counter(exp_df.exposure_inc)"
   ]
  },
  {
   "cell_type": "code",
   "execution_count": 29,
   "metadata": {
    "collapsed": false,
    "deletable": true,
    "editable": true
   },
   "outputs": [
    {
     "data": {
      "text/plain": [
       "Counter({False: 8633, True: 2150})"
      ]
     },
     "execution_count": 29,
     "metadata": {},
     "output_type": "execute_result"
    }
   ],
   "source": [
    "coll.Counter(exp_df.err)"
   ]
  },
  {
   "cell_type": "code",
   "execution_count": 30,
   "metadata": {
    "collapsed": false,
    "deletable": true,
    "editable": true
   },
   "outputs": [
    {
     "data": {
      "text/plain": [
       "Counter({'FuckIt': 1071,\n",
       "         'flappybird': 776,\n",
       "         'focused': 1185,\n",
       "         'noexcuses': 1147,\n",
       "         'rare': 1230,\n",
       "         'sosick': 1242,\n",
       "         'sub': 1431,\n",
       "         'thetruth': 935,\n",
       "         'up': 736,\n",
       "         'yeahright': 1030})"
      ]
     },
     "execution_count": 30,
     "metadata": {},
     "output_type": "execute_result"
    }
   ],
   "source": [
    "coll.Counter(exp_df.tag)"
   ]
  },
  {
   "cell_type": "code",
   "execution_count": null,
   "metadata": {
    "collapsed": true,
    "deletable": true,
    "editable": true
   },
   "outputs": [],
   "source": []
  }
 ],
 "metadata": {
  "anaconda-cloud": {},
  "kernelspec": {
   "display_name": "Python 3",
   "language": "python",
   "name": "python3"
  },
  "language_info": {
   "codemirror_mode": {
    "name": "ipython",
    "version": 3
   },
   "file_extension": ".py",
   "mimetype": "text/x-python",
   "name": "python",
   "nbconvert_exporter": "python",
   "pygments_lexer": "ipython3",
   "version": "3.6.1"
  }
 },
 "nbformat": 4,
 "nbformat_minor": 2
}
